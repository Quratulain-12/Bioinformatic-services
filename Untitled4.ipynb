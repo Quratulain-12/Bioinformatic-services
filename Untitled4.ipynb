{
  "nbformat": 4,
  "nbformat_minor": 0,
  "metadata": {
    "colab": {
      "provenance": [],
      "authorship_tag": "ABX9TyN0DApBbnto4bKmxDQG2y0E",
      "include_colab_link": true
    },
    "kernelspec": {
      "name": "python3",
      "display_name": "Python 3"
    },
    "language_info": {
      "name": "python"
    }
  },
  "cells": [
    {
      "cell_type": "markdown",
      "metadata": {
        "id": "view-in-github",
        "colab_type": "text"
      },
      "source": [
        "<a href=\"https://colab.research.google.com/github/Quratulain-12/Bioinformatic-services/blob/main/Untitled4.ipynb\" target=\"_parent\"><img src=\"https://colab.research.google.com/assets/colab-badge.svg\" alt=\"Open In Colab\"/></a>"
      ]
    },
    {
      "cell_type": "code",
      "execution_count": null,
      "metadata": {
        "cellView": "form",
        "id": "G_dxRI2_wAjg"
      },
      "outputs": [],
      "source": [
        "# FASTA/FASTQ Processor\n",
        "# Calculates statistics and visualizes sequences\n",
        "# @title Bioinformatics Sequence Analyzer\n",
        "import libraries\n",
        "!pip install biopython\n",
        "from Bio import SeqIO\n",
        "import matplotlib.pyplot as plt\n",
        "import pandas as pd\n",
        "from collections import Counter\n",
        "\n",
        "print(\"🦠 FASTA/FASTQ ANALYSIS TOOL\")\n",
        "\n",
        "# @markdown Upload a FASTA/FASTQ file:\n",
        "from google.colab import files\n",
        "uploaded = files.upload()\n",
        "filename = list(uploaded.keys())[0]\n",
        "\n",
        "# Process sequences\n",
        "sequences = []\n",
        "lengths = []\n",
        "gc_contents = []\n",
        "nucleotide_counts = {'A':0, 'T':0, 'G':0, 'C':0}\n",
        "\n",
        "for record in SeqIO.parse(filename, \"fasta\" if filename.endswith(('.fa', '.fasta')) else \"fastq\"):\n",
        "    seq = str(record.seq).upper()\n",
        "    sequences.append(seq)\n",
        "    lengths.append(len(seq))\n",
        "    gc = (seq.count('G') + seq.count('C')) / len(seq) * 100\n",
        "    gc_contents.append(gc)\n",
        "\n",
        "    for nt in ['A','T','G','C']:\n",
        "        nucleotide_counts[nt] += seq.count(nt)\n",
        "\n",
        "# Generate report\n",
        "print(f\"\\n📊 SEQUENCE REPORT ({filename})\")\n",
        "print(f\"Total sequences: {len(sequences)}\")\n",
        "print(f\"Average length: {sum(lengths)/len(lengths):.1f} bp\")\n",
        "print(f\"Average GC content: {sum(gc_contents)/len(gc_contents):.1f}%\")\n",
        "\n",
        "# Visualization\n",
        "plt.figure(figsize=(15,10))\n",
        "\n",
        "# Length distribution\n",
        "plt.subplot(2,2,1)\n",
        "plt.hist(lengths, bins=30, color='#1b5e20')\n",
        "plt.title('Sequence Length Distribution')\n",
        "plt.xlabel('Length (bp)')\n",
        "plt.ylabel('Count')\n",
        "\n",
        "# GC content distribution\n",
        "plt.subplot(2,2,2)\n",
        "plt.hist(gc_contents, bins=30, color='#388e3c')\n",
        "plt.title('GC Content Distribution')\n",
        "plt.xlabel('GC Content (%)')\n",
        "\n",
        "# Nucleotide composition\n",
        "plt.subplot(2,2,3)\n",
        "plt.pie(nucleotide_counts.values(), labels=nucleotide_counts.keys(),\n",
        "        autopct='%1.1f%%', colors=['#4caf50','#81c784','#2e7d32','#1b5e20'])\n",
        "plt.title('Overall Nucleotide Composition')\n",
        "\n",
        "# Save results\n",
        "df = pd.DataFrame({\n",
        "    'Sequence ID': [record.id for record in SeqIO.parse(filename, \"fasta\" if filename.endswith(('.fa', '.fasta')) else \"fastq\")],\n",
        "    'Length': lengths,\n",
        "    'GC Content': gc_contents\n",
        "})\n",
        "\n",
        "df.to_csv('sequence_analysis_report.csv', index=False)\n",
        "files.download('sequence_analysis_report.csv')\n",
        "\n",
        "print(\"\\n✅ Analysis complete! Report downloaded as CSV\")"
      ]
    }
  ]
}